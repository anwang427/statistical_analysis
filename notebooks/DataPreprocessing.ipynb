{
 "cells": [
  {
   "cell_type": "markdown",
   "id": "a796e400",
   "metadata": {},
   "source": [
    "# Data Preprocessing Notebook\n",
    "\n",
    "This notebook outlines the data preprocessing steps and checks for the dataset.\n"
   ]
  },
  {
   "cell_type": "markdown",
   "id": "d9a388f0",
   "metadata": {},
   "source": [
    "## Data Loading\n",
    "\n",
    "Load the dataset from the CSV file into a Pandas DataFrame."
   ]
  },
  {
   "cell_type": "markdown",
   "id": "31f308b5",
   "metadata": {},
   "source": [
    "We'll print a few of the data frames to verify the important worked; we'll need to join all of these to run statistical analyses later."
   ]
  },
  {
   "cell_type": "code",
   "execution_count": 13,
   "id": "4e01cbe5",
   "metadata": {},
   "outputs": [],
   "source": [
    "import pandas as pd\n",
    "\n",
    "responses_file_path = '../data/responses.csv'\n",
    "participants_file_path = '../data/participants.csv'\n",
    "\n",
    "responses = pd.read_csv(responses_file_path)\n",
    "participants = pd.read_csv(participants_file_path)\n"
   ]
  },
  {
   "cell_type": "code",
   "execution_count": 14,
   "id": "75002324",
   "metadata": {},
   "outputs": [
    {
     "data": {
      "text/html": [
       "<div>\n",
       "<style scoped>\n",
       "    .dataframe tbody tr th:only-of-type {\n",
       "        vertical-align: middle;\n",
       "    }\n",
       "\n",
       "    .dataframe tbody tr th {\n",
       "        vertical-align: top;\n",
       "    }\n",
       "\n",
       "    .dataframe thead th {\n",
       "        text-align: right;\n",
       "    }\n",
       "</style>\n",
       "<table border=\"1\" class=\"dataframe\">\n",
       "  <thead>\n",
       "    <tr style=\"text-align: right;\">\n",
       "      <th></th>\n",
       "      <th>id</th>\n",
       "      <th>stage</th>\n",
       "      <th>accuracy</th>\n",
       "      <th>completeness</th>\n",
       "      <th>innovation</th>\n",
       "      <th>difficulty</th>\n",
       "      <th>n_user_messages</th>\n",
       "      <th>n_internet_resources</th>\n",
       "      <th>time_to_complete_sec</th>\n",
       "    </tr>\n",
       "  </thead>\n",
       "  <tbody>\n",
       "    <tr>\n",
       "      <th>0</th>\n",
       "      <td>0</td>\n",
       "      <td>ideation</td>\n",
       "      <td>7</td>\n",
       "      <td>2</td>\n",
       "      <td>1</td>\n",
       "      <td>6.0</td>\n",
       "      <td>0.0</td>\n",
       "      <td>23.0</td>\n",
       "      <td>2075.0</td>\n",
       "    </tr>\n",
       "    <tr>\n",
       "      <th>1</th>\n",
       "      <td>1</td>\n",
       "      <td>ideation</td>\n",
       "      <td>8</td>\n",
       "      <td>4</td>\n",
       "      <td>1</td>\n",
       "      <td>4.0</td>\n",
       "      <td>0.0</td>\n",
       "      <td>11.0</td>\n",
       "      <td>727.0</td>\n",
       "    </tr>\n",
       "    <tr>\n",
       "      <th>2</th>\n",
       "      <td>2</td>\n",
       "      <td>ideation</td>\n",
       "      <td>8</td>\n",
       "      <td>6</td>\n",
       "      <td>0</td>\n",
       "      <td>7.0</td>\n",
       "      <td>19.0</td>\n",
       "      <td>10.0</td>\n",
       "      <td>4474.0</td>\n",
       "    </tr>\n",
       "    <tr>\n",
       "      <th>3</th>\n",
       "      <td>3</td>\n",
       "      <td>ideation</td>\n",
       "      <td>0</td>\n",
       "      <td>4</td>\n",
       "      <td>0</td>\n",
       "      <td>2.0</td>\n",
       "      <td>0.0</td>\n",
       "      <td>12.0</td>\n",
       "      <td>771.0</td>\n",
       "    </tr>\n",
       "    <tr>\n",
       "      <th>4</th>\n",
       "      <td>4</td>\n",
       "      <td>ideation</td>\n",
       "      <td>8</td>\n",
       "      <td>4</td>\n",
       "      <td>3</td>\n",
       "      <td>6.0</td>\n",
       "      <td>37.0</td>\n",
       "      <td>6.0</td>\n",
       "      <td>3371.0</td>\n",
       "    </tr>\n",
       "  </tbody>\n",
       "</table>\n",
       "</div>"
      ],
      "text/plain": [
       "   id     stage  accuracy  completeness  innovation  difficulty  \\\n",
       "0   0  ideation         7             2           1         6.0   \n",
       "1   1  ideation         8             4           1         4.0   \n",
       "2   2  ideation         8             6           0         7.0   \n",
       "3   3  ideation         0             4           0         2.0   \n",
       "4   4  ideation         8             4           3         6.0   \n",
       "\n",
       "   n_user_messages  n_internet_resources  time_to_complete_sec  \n",
       "0              0.0                  23.0                2075.0  \n",
       "1              0.0                  11.0                 727.0  \n",
       "2             19.0                  10.0                4474.0  \n",
       "3              0.0                  12.0                 771.0  \n",
       "4             37.0                   6.0                3371.0  "
      ]
     },
     "execution_count": 14,
     "metadata": {},
     "output_type": "execute_result"
    }
   ],
   "source": [
    "responses.head()"
   ]
  },
  {
   "cell_type": "code",
   "execution_count": 15,
   "id": "09ed1751",
   "metadata": {},
   "outputs": [
    {
     "data": {
      "text/html": [
       "<div>\n",
       "<style scoped>\n",
       "    .dataframe tbody tr th:only-of-type {\n",
       "        vertical-align: middle;\n",
       "    }\n",
       "\n",
       "    .dataframe tbody tr th {\n",
       "        vertical-align: top;\n",
       "    }\n",
       "\n",
       "    .dataframe thead th {\n",
       "        text-align: right;\n",
       "    }\n",
       "</style>\n",
       "<table border=\"1\" class=\"dataframe\">\n",
       "  <thead>\n",
       "    <tr style=\"text-align: right;\">\n",
       "      <th></th>\n",
       "      <th>id</th>\n",
       "      <th>cohort</th>\n",
       "      <th>assignment</th>\n",
       "      <th>llm_experience</th>\n",
       "    </tr>\n",
       "  </thead>\n",
       "  <tbody>\n",
       "    <tr>\n",
       "      <th>0</th>\n",
       "      <td>0</td>\n",
       "      <td>expert</td>\n",
       "      <td>llm_internet</td>\n",
       "      <td>Used a few times</td>\n",
       "    </tr>\n",
       "    <tr>\n",
       "      <th>1</th>\n",
       "      <td>1</td>\n",
       "      <td>expert</td>\n",
       "      <td>internet_only</td>\n",
       "      <td>Use at least once every few weeks</td>\n",
       "    </tr>\n",
       "    <tr>\n",
       "      <th>2</th>\n",
       "      <td>2</td>\n",
       "      <td>expert</td>\n",
       "      <td>llm_internet</td>\n",
       "      <td>Never used</td>\n",
       "    </tr>\n",
       "    <tr>\n",
       "      <th>3</th>\n",
       "      <td>3</td>\n",
       "      <td>student</td>\n",
       "      <td>llm_internet</td>\n",
       "      <td>Use almost every day</td>\n",
       "    </tr>\n",
       "    <tr>\n",
       "      <th>4</th>\n",
       "      <td>4</td>\n",
       "      <td>student</td>\n",
       "      <td>llm_internet</td>\n",
       "      <td>Use almost every day</td>\n",
       "    </tr>\n",
       "  </tbody>\n",
       "</table>\n",
       "</div>"
      ],
      "text/plain": [
       "   id   cohort     assignment                     llm_experience\n",
       "0   0   expert   llm_internet                   Used a few times\n",
       "1   1   expert  internet_only  Use at least once every few weeks\n",
       "2   2   expert   llm_internet                         Never used\n",
       "3   3  student   llm_internet               Use almost every day\n",
       "4   4  student   llm_internet               Use almost every day"
      ]
     },
     "execution_count": 15,
     "metadata": {},
     "output_type": "execute_result"
    }
   ],
   "source": [
    "participants.head()"
   ]
  },
  {
   "cell_type": "code",
   "execution_count": 18,
   "id": "2c820a1c",
   "metadata": {},
   "outputs": [
    {
     "data": {
      "text/html": [
       "<div>\n",
       "<style scoped>\n",
       "    .dataframe tbody tr th:only-of-type {\n",
       "        vertical-align: middle;\n",
       "    }\n",
       "\n",
       "    .dataframe tbody tr th {\n",
       "        vertical-align: top;\n",
       "    }\n",
       "\n",
       "    .dataframe thead th {\n",
       "        text-align: right;\n",
       "    }\n",
       "</style>\n",
       "<table border=\"1\" class=\"dataframe\">\n",
       "  <thead>\n",
       "    <tr style=\"text-align: right;\">\n",
       "      <th></th>\n",
       "      <th>id</th>\n",
       "      <th>stage</th>\n",
       "      <th>accuracy</th>\n",
       "      <th>completeness</th>\n",
       "      <th>innovation</th>\n",
       "      <th>difficulty</th>\n",
       "      <th>n_user_messages</th>\n",
       "      <th>n_internet_resources</th>\n",
       "      <th>time_to_complete_sec</th>\n",
       "      <th>cohort</th>\n",
       "      <th>assignment</th>\n",
       "      <th>llm_experience</th>\n",
       "    </tr>\n",
       "  </thead>\n",
       "  <tbody>\n",
       "    <tr>\n",
       "      <th>0</th>\n",
       "      <td>0</td>\n",
       "      <td>ideation</td>\n",
       "      <td>7</td>\n",
       "      <td>2</td>\n",
       "      <td>1</td>\n",
       "      <td>6.0</td>\n",
       "      <td>0.0</td>\n",
       "      <td>23.0</td>\n",
       "      <td>2075.0</td>\n",
       "      <td>expert</td>\n",
       "      <td>llm_internet</td>\n",
       "      <td>Used a few times</td>\n",
       "    </tr>\n",
       "    <tr>\n",
       "      <th>1</th>\n",
       "      <td>0</td>\n",
       "      <td>acquisition</td>\n",
       "      <td>8</td>\n",
       "      <td>6</td>\n",
       "      <td>0</td>\n",
       "      <td>4.0</td>\n",
       "      <td>0.0</td>\n",
       "      <td>22.0</td>\n",
       "      <td>3175.0</td>\n",
       "      <td>expert</td>\n",
       "      <td>llm_internet</td>\n",
       "      <td>Used a few times</td>\n",
       "    </tr>\n",
       "    <tr>\n",
       "      <th>2</th>\n",
       "      <td>0</td>\n",
       "      <td>magnification</td>\n",
       "      <td>4</td>\n",
       "      <td>3</td>\n",
       "      <td>0</td>\n",
       "      <td>6.0</td>\n",
       "      <td>0.0</td>\n",
       "      <td>17.0</td>\n",
       "      <td>2158.0</td>\n",
       "      <td>expert</td>\n",
       "      <td>llm_internet</td>\n",
       "      <td>Used a few times</td>\n",
       "    </tr>\n",
       "    <tr>\n",
       "      <th>3</th>\n",
       "      <td>0</td>\n",
       "      <td>formulation</td>\n",
       "      <td>3</td>\n",
       "      <td>2</td>\n",
       "      <td>0</td>\n",
       "      <td>2.0</td>\n",
       "      <td>0.0</td>\n",
       "      <td>5.0</td>\n",
       "      <td>1151.0</td>\n",
       "      <td>expert</td>\n",
       "      <td>llm_internet</td>\n",
       "      <td>Used a few times</td>\n",
       "    </tr>\n",
       "    <tr>\n",
       "      <th>4</th>\n",
       "      <td>0</td>\n",
       "      <td>release</td>\n",
       "      <td>6</td>\n",
       "      <td>2</td>\n",
       "      <td>0</td>\n",
       "      <td>5.0</td>\n",
       "      <td>0.0</td>\n",
       "      <td>23.0</td>\n",
       "      <td>1816.0</td>\n",
       "      <td>expert</td>\n",
       "      <td>llm_internet</td>\n",
       "      <td>Used a few times</td>\n",
       "    </tr>\n",
       "  </tbody>\n",
       "</table>\n",
       "</div>"
      ],
      "text/plain": [
       "   id          stage  accuracy  completeness  innovation  difficulty  \\\n",
       "0   0       ideation         7             2           1         6.0   \n",
       "1   0    acquisition         8             6           0         4.0   \n",
       "2   0  magnification         4             3           0         6.0   \n",
       "3   0    formulation         3             2           0         2.0   \n",
       "4   0        release         6             2           0         5.0   \n",
       "\n",
       "   n_user_messages  n_internet_resources  time_to_complete_sec  cohort  \\\n",
       "0              0.0                  23.0                2075.0  expert   \n",
       "1              0.0                  22.0                3175.0  expert   \n",
       "2              0.0                  17.0                2158.0  expert   \n",
       "3              0.0                   5.0                1151.0  expert   \n",
       "4              0.0                  23.0                1816.0  expert   \n",
       "\n",
       "     assignment    llm_experience  \n",
       "0  llm_internet  Used a few times  \n",
       "1  llm_internet  Used a few times  \n",
       "2  llm_internet  Used a few times  \n",
       "3  llm_internet  Used a few times  \n",
       "4  llm_internet  Used a few times  "
      ]
     },
     "execution_count": 18,
     "metadata": {},
     "output_type": "execute_result"
    }
   ],
   "source": [
    "# Join the data frames\n",
    "data = pd.merge(responses, participants, on='id', how='inner')\n",
    "data.head()"
   ]
  },
  {
   "cell_type": "markdown",
   "id": "fce59bef",
   "metadata": {},
   "source": [
    "## Missing Values\n",
    "\n",
    "Check for any missing values in the dataset.\n"
   ]
  },
  {
   "cell_type": "code",
   "execution_count": 19,
   "id": "46805c48",
   "metadata": {},
   "outputs": [
    {
     "data": {
      "text/plain": [
       "id                      0\n",
       "stage                   0\n",
       "accuracy                0\n",
       "completeness            0\n",
       "innovation              0\n",
       "difficulty              5\n",
       "n_user_messages         3\n",
       "n_internet_resources    3\n",
       "time_to_complete_sec    3\n",
       "cohort                  0\n",
       "assignment              0\n",
       "llm_experience          0\n",
       "dtype: int64"
      ]
     },
     "execution_count": 19,
     "metadata": {},
     "output_type": "execute_result"
    }
   ],
   "source": [
    "missing_values = data.isnull().sum()\n",
    "missing_values"
   ]
  },
  {
   "cell_type": "markdown",
   "id": "4cd98b20",
   "metadata": {},
   "source": [
    "Five participants didn't give a self-rated difficulty.\n",
    "\n",
    "Three participants didn't have a value associated with n_user_messages, n_internet_resources, or time_to_complete_sec."
   ]
  },
  {
   "cell_type": "markdown",
   "id": "e820d6f3",
   "metadata": {},
   "source": [
    "## Data Types\n",
    "\n",
    "Ensure that each column has the correct data type.\n"
   ]
  },
  {
   "cell_type": "code",
   "execution_count": 20,
   "id": "91cbf1ff",
   "metadata": {},
   "outputs": [
    {
     "data": {
      "text/plain": [
       "id                        int64\n",
       "stage                    object\n",
       "accuracy                  int64\n",
       "completeness              int64\n",
       "innovation                int64\n",
       "difficulty              float64\n",
       "n_user_messages         float64\n",
       "n_internet_resources    float64\n",
       "time_to_complete_sec    float64\n",
       "cohort                   object\n",
       "assignment               object\n",
       "llm_experience           object\n",
       "dtype: object"
      ]
     },
     "execution_count": 20,
     "metadata": {},
     "output_type": "execute_result"
    }
   ],
   "source": [
    "data_types = data.dtypes\n",
    "data_types\n"
   ]
  },
  {
   "cell_type": "markdown",
   "id": "4d24ea3f",
   "metadata": {},
   "source": [
    "## Outliers\n",
    "\n",
    "Identify any outliers in the dataset using a statistical rule (values that are more than 3 standard deviations from the mean).\n"
   ]
  },
  {
   "cell_type": "code",
   "execution_count": 21,
   "id": "7807a751",
   "metadata": {},
   "outputs": [
    {
     "data": {
      "text/plain": [
       "id                       0\n",
       "accuracy                 0\n",
       "completeness             4\n",
       "innovation               5\n",
       "difficulty               0\n",
       "n_user_messages         12\n",
       "n_internet_resources     9\n",
       "time_to_complete_sec     9\n",
       "dtype: int64"
      ]
     },
     "execution_count": 21,
     "metadata": {},
     "output_type": "execute_result"
    }
   ],
   "source": [
    "numeric_cols = data.select_dtypes(include=['float64', 'int64']).columns\n",
    "data_numeric = data[numeric_cols]\n",
    "z_scores = ((data_numeric - data_numeric.mean()) / data_numeric.std()).abs()\n",
    "outliers = (z_scores > 3).sum()\n",
    "outliers\n"
   ]
  },
  {
   "cell_type": "markdown",
   "id": "d1076fd3",
   "metadata": {},
   "source": [
    "## Consistency\n",
    "\n",
    "Check for consistency in categorical variables, such as the 'stage' column.\n"
   ]
  },
  {
   "cell_type": "code",
   "execution_count": 22,
   "id": "9817296d",
   "metadata": {},
   "outputs": [
    {
     "data": {
      "text/plain": [
       "array(['ideation', 'acquisition', 'magnification', 'formulation',\n",
       "       'release'], dtype=object)"
      ]
     },
     "execution_count": 22,
     "metadata": {},
     "output_type": "execute_result"
    }
   ],
   "source": [
    "unique_stages = data['stage'].unique()\n",
    "unique_stages\n"
   ]
  },
  {
   "cell_type": "markdown",
   "id": "6cf2ad2b",
   "metadata": {},
   "source": [
    "## Cleaning the Data"
   ]
  },
  {
   "cell_type": "code",
   "execution_count": 23,
   "id": "fbc9f6cb",
   "metadata": {},
   "outputs": [
    {
     "data": {
      "text/plain": [
       "'../data/cleaned_data.csv'"
      ]
     },
     "execution_count": 23,
     "metadata": {},
     "output_type": "execute_result"
    }
   ],
   "source": [
    "def clean_dataset(raw_data, cleaned_data_path):\n",
    "    cleaned_data = raw_data.copy()\n",
    "\n",
    "    # Remove rows with missing values\n",
    "    # cleaned_data = data.dropna()\n",
    "    \n",
    "    # Save the cleaned data to a CSV file\n",
    "    cleaned_data.to_csv(cleaned_data_path, index=False)\n",
    "    \n",
    "    return cleaned_data_path\n",
    "\n",
    "cleaned_data_file_path = '../data/cleaned_data.csv' \n",
    "\n",
    "# Call the function and obtain the path to the cleaned data file\n",
    "cleaned_file_path = clean_dataset(data, cleaned_data_file_path)\n",
    "cleaned_file_path"
   ]
  }
 ],
 "metadata": {
  "kernelspec": {
   "display_name": "myenv",
   "language": "python",
   "name": "python3"
  },
  "language_info": {
   "codemirror_mode": {
    "name": "ipython",
    "version": 3
   },
   "file_extension": ".py",
   "mimetype": "text/x-python",
   "name": "python",
   "nbconvert_exporter": "python",
   "pygments_lexer": "ipython3",
   "version": "3.8.8"
  }
 },
 "nbformat": 4,
 "nbformat_minor": 5
}
